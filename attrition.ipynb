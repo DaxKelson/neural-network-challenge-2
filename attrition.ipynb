{
 "cells": [
  {
   "cell_type": "markdown",
   "metadata": {
    "id": "alIIEHibGc3M"
   },
   "source": [
    "## Part 1: Preprocessing"
   ]
  },
  {
   "cell_type": "code",
   "execution_count": 1,
   "metadata": {
    "colab": {
     "base_uri": "https://localhost:8080/",
     "height": 325
    },
    "executionInfo": {
     "elapsed": 12323,
     "status": "ok",
     "timestamp": 1730699226906,
     "user": {
      "displayName": "Alexander Booth",
      "userId": "02269714993535573104"
     },
     "user_tz": 360
    },
    "id": "6eDUJ4NtGc3P",
    "outputId": "eeae54b5-3d17-442d-94ba-00dd55b89964"
   },
   "outputs": [
    {
     "data": {
      "text/html": [
       "<div>\n",
       "<style scoped>\n",
       "    .dataframe tbody tr th:only-of-type {\n",
       "        vertical-align: middle;\n",
       "    }\n",
       "\n",
       "    .dataframe tbody tr th {\n",
       "        vertical-align: top;\n",
       "    }\n",
       "\n",
       "    .dataframe thead th {\n",
       "        text-align: right;\n",
       "    }\n",
       "</style>\n",
       "<table border=\"1\" class=\"dataframe\">\n",
       "  <thead>\n",
       "    <tr style=\"text-align: right;\">\n",
       "      <th></th>\n",
       "      <th>Age</th>\n",
       "      <th>Attrition</th>\n",
       "      <th>BusinessTravel</th>\n",
       "      <th>Department</th>\n",
       "      <th>DistanceFromHome</th>\n",
       "      <th>Education</th>\n",
       "      <th>EducationField</th>\n",
       "      <th>EnvironmentSatisfaction</th>\n",
       "      <th>HourlyRate</th>\n",
       "      <th>JobInvolvement</th>\n",
       "      <th>...</th>\n",
       "      <th>PerformanceRating</th>\n",
       "      <th>RelationshipSatisfaction</th>\n",
       "      <th>StockOptionLevel</th>\n",
       "      <th>TotalWorkingYears</th>\n",
       "      <th>TrainingTimesLastYear</th>\n",
       "      <th>WorkLifeBalance</th>\n",
       "      <th>YearsAtCompany</th>\n",
       "      <th>YearsInCurrentRole</th>\n",
       "      <th>YearsSinceLastPromotion</th>\n",
       "      <th>YearsWithCurrManager</th>\n",
       "    </tr>\n",
       "  </thead>\n",
       "  <tbody>\n",
       "    <tr>\n",
       "      <th>0</th>\n",
       "      <td>41</td>\n",
       "      <td>Yes</td>\n",
       "      <td>Travel_Rarely</td>\n",
       "      <td>Sales</td>\n",
       "      <td>1</td>\n",
       "      <td>2</td>\n",
       "      <td>Life Sciences</td>\n",
       "      <td>2</td>\n",
       "      <td>94</td>\n",
       "      <td>3</td>\n",
       "      <td>...</td>\n",
       "      <td>3</td>\n",
       "      <td>1</td>\n",
       "      <td>0</td>\n",
       "      <td>8</td>\n",
       "      <td>0</td>\n",
       "      <td>1</td>\n",
       "      <td>6</td>\n",
       "      <td>4</td>\n",
       "      <td>0</td>\n",
       "      <td>5</td>\n",
       "    </tr>\n",
       "    <tr>\n",
       "      <th>1</th>\n",
       "      <td>49</td>\n",
       "      <td>No</td>\n",
       "      <td>Travel_Frequently</td>\n",
       "      <td>Research &amp; Development</td>\n",
       "      <td>8</td>\n",
       "      <td>1</td>\n",
       "      <td>Life Sciences</td>\n",
       "      <td>3</td>\n",
       "      <td>61</td>\n",
       "      <td>2</td>\n",
       "      <td>...</td>\n",
       "      <td>4</td>\n",
       "      <td>4</td>\n",
       "      <td>1</td>\n",
       "      <td>10</td>\n",
       "      <td>3</td>\n",
       "      <td>3</td>\n",
       "      <td>10</td>\n",
       "      <td>7</td>\n",
       "      <td>1</td>\n",
       "      <td>7</td>\n",
       "    </tr>\n",
       "    <tr>\n",
       "      <th>2</th>\n",
       "      <td>37</td>\n",
       "      <td>Yes</td>\n",
       "      <td>Travel_Rarely</td>\n",
       "      <td>Research &amp; Development</td>\n",
       "      <td>2</td>\n",
       "      <td>2</td>\n",
       "      <td>Other</td>\n",
       "      <td>4</td>\n",
       "      <td>92</td>\n",
       "      <td>2</td>\n",
       "      <td>...</td>\n",
       "      <td>3</td>\n",
       "      <td>2</td>\n",
       "      <td>0</td>\n",
       "      <td>7</td>\n",
       "      <td>3</td>\n",
       "      <td>3</td>\n",
       "      <td>0</td>\n",
       "      <td>0</td>\n",
       "      <td>0</td>\n",
       "      <td>0</td>\n",
       "    </tr>\n",
       "    <tr>\n",
       "      <th>3</th>\n",
       "      <td>33</td>\n",
       "      <td>No</td>\n",
       "      <td>Travel_Frequently</td>\n",
       "      <td>Research &amp; Development</td>\n",
       "      <td>3</td>\n",
       "      <td>4</td>\n",
       "      <td>Life Sciences</td>\n",
       "      <td>4</td>\n",
       "      <td>56</td>\n",
       "      <td>3</td>\n",
       "      <td>...</td>\n",
       "      <td>3</td>\n",
       "      <td>3</td>\n",
       "      <td>0</td>\n",
       "      <td>8</td>\n",
       "      <td>3</td>\n",
       "      <td>3</td>\n",
       "      <td>8</td>\n",
       "      <td>7</td>\n",
       "      <td>3</td>\n",
       "      <td>0</td>\n",
       "    </tr>\n",
       "    <tr>\n",
       "      <th>4</th>\n",
       "      <td>27</td>\n",
       "      <td>No</td>\n",
       "      <td>Travel_Rarely</td>\n",
       "      <td>Research &amp; Development</td>\n",
       "      <td>2</td>\n",
       "      <td>1</td>\n",
       "      <td>Medical</td>\n",
       "      <td>1</td>\n",
       "      <td>40</td>\n",
       "      <td>3</td>\n",
       "      <td>...</td>\n",
       "      <td>3</td>\n",
       "      <td>4</td>\n",
       "      <td>1</td>\n",
       "      <td>6</td>\n",
       "      <td>3</td>\n",
       "      <td>3</td>\n",
       "      <td>2</td>\n",
       "      <td>2</td>\n",
       "      <td>2</td>\n",
       "      <td>2</td>\n",
       "    </tr>\n",
       "  </tbody>\n",
       "</table>\n",
       "<p>5 rows × 27 columns</p>\n",
       "</div>"
      ],
      "text/plain": [
       "   Age Attrition     BusinessTravel              Department  DistanceFromHome  \\\n",
       "0   41       Yes      Travel_Rarely                   Sales                 1   \n",
       "1   49        No  Travel_Frequently  Research & Development                 8   \n",
       "2   37       Yes      Travel_Rarely  Research & Development                 2   \n",
       "3   33        No  Travel_Frequently  Research & Development                 3   \n",
       "4   27        No      Travel_Rarely  Research & Development                 2   \n",
       "\n",
       "   Education EducationField  EnvironmentSatisfaction  HourlyRate  \\\n",
       "0          2  Life Sciences                        2          94   \n",
       "1          1  Life Sciences                        3          61   \n",
       "2          2          Other                        4          92   \n",
       "3          4  Life Sciences                        4          56   \n",
       "4          1        Medical                        1          40   \n",
       "\n",
       "   JobInvolvement  ...  PerformanceRating RelationshipSatisfaction  \\\n",
       "0               3  ...                  3                        1   \n",
       "1               2  ...                  4                        4   \n",
       "2               2  ...                  3                        2   \n",
       "3               3  ...                  3                        3   \n",
       "4               3  ...                  3                        4   \n",
       "\n",
       "   StockOptionLevel TotalWorkingYears  TrainingTimesLastYear WorkLifeBalance  \\\n",
       "0                 0                 8                      0               1   \n",
       "1                 1                10                      3               3   \n",
       "2                 0                 7                      3               3   \n",
       "3                 0                 8                      3               3   \n",
       "4                 1                 6                      3               3   \n",
       "\n",
       "   YearsAtCompany  YearsInCurrentRole  YearsSinceLastPromotion  \\\n",
       "0               6                   4                        0   \n",
       "1              10                   7                        1   \n",
       "2               0                   0                        0   \n",
       "3               8                   7                        3   \n",
       "4               2                   2                        2   \n",
       "\n",
       "   YearsWithCurrManager  \n",
       "0                     5  \n",
       "1                     7  \n",
       "2                     0  \n",
       "3                     0  \n",
       "4                     2  \n",
       "\n",
       "[5 rows x 27 columns]"
      ]
     },
     "execution_count": 1,
     "metadata": {},
     "output_type": "execute_result"
    }
   ],
   "source": [
    "# Import our dependencies\n",
    "from sklearn.model_selection import train_test_split\n",
    "from sklearn.preprocessing import StandardScaler\n",
    "import pandas as pd\n",
    "import numpy as np\n",
    "from tensorflow.keras.models import Model\n",
    "from tensorflow.keras import layers\n",
    "\n",
    "#  Import and read the attrition data\n",
    "attrition_df = pd.read_csv('https://static.bc-edx.com/ai/ail-v-1-0/m19/lms/datasets/attrition.csv')\n",
    "attrition_df.head()"
   ]
  },
  {
   "cell_type": "code",
   "execution_count": 2,
   "metadata": {
    "colab": {
     "base_uri": "https://localhost:8080/",
     "height": 930
    },
    "executionInfo": {
     "elapsed": 10,
     "status": "ok",
     "timestamp": 1730699226906,
     "user": {
      "displayName": "Alexander Booth",
      "userId": "02269714993535573104"
     },
     "user_tz": 360
    },
    "id": "g22aQSY4Gc3Q",
    "outputId": "e8b68509-45d8-42e0-a9db-1bdce48e4b2d"
   },
   "outputs": [
    {
     "data": {
      "text/plain": [
       "Age                         43\n",
       "Attrition                    2\n",
       "BusinessTravel               3\n",
       "Department                   3\n",
       "DistanceFromHome            29\n",
       "Education                    5\n",
       "EducationField               6\n",
       "EnvironmentSatisfaction      4\n",
       "HourlyRate                  71\n",
       "JobInvolvement               4\n",
       "JobLevel                     5\n",
       "JobRole                      9\n",
       "JobSatisfaction              4\n",
       "MaritalStatus                3\n",
       "NumCompaniesWorked          10\n",
       "OverTime                     2\n",
       "PercentSalaryHike           15\n",
       "PerformanceRating            2\n",
       "RelationshipSatisfaction     4\n",
       "StockOptionLevel             4\n",
       "TotalWorkingYears           40\n",
       "TrainingTimesLastYear        7\n",
       "WorkLifeBalance              4\n",
       "YearsAtCompany              37\n",
       "YearsInCurrentRole          19\n",
       "YearsSinceLastPromotion     16\n",
       "YearsWithCurrManager        18\n",
       "dtype: int64"
      ]
     },
     "execution_count": 2,
     "metadata": {},
     "output_type": "execute_result"
    }
   ],
   "source": [
    "# Determine the number of unique values in each column\n",
    "attrition_df.nunique()"
   ]
  },
  {
   "cell_type": "code",
   "execution_count": 3,
   "metadata": {
    "executionInfo": {
     "elapsed": 7,
     "status": "ok",
     "timestamp": 1730699226906,
     "user": {
      "displayName": "Alexander Booth",
      "userId": "02269714993535573104"
     },
     "user_tz": 360
    },
    "id": "50vMgBEnJbfM"
   },
   "outputs": [],
   "source": [
    "# Create y_df with the Attrition and Department columns\n",
    "y_df = attrition_df[[\"Attrition\", \"Department\"]]"
   ]
  },
  {
   "cell_type": "code",
   "execution_count": 5,
   "metadata": {
    "colab": {
     "base_uri": "https://localhost:8080/",
     "height": 397
    },
    "executionInfo": {
     "elapsed": 125,
     "status": "ok",
     "timestamp": 1730699227025,
     "user": {
      "displayName": "Alexander Booth",
      "userId": "02269714993535573104"
     },
     "user_tz": 360
    },
    "id": "Virka0zLGc3R",
    "outputId": "24f181c9-7e2e-42cb-94e8-a75842f1ab01"
   },
   "outputs": [
    {
     "data": {
      "text/plain": [
       "Age                        int64\n",
       "HourlyRate                 int64\n",
       "DistanceFromHome           int64\n",
       "Education                  int64\n",
       "EnvironmentSatisfaction    int64\n",
       "JobInvolvement             int64\n",
       "JobLevel                   int64\n",
       "JobSatisfaction            int64\n",
       "PerformanceRating          int64\n",
       "TotalWorkingYears          int64\n",
       "dtype: object"
      ]
     },
     "execution_count": 5,
     "metadata": {},
     "output_type": "execute_result"
    }
   ],
   "source": [
    "# Create a list of at least 10 column names to use as X data\n",
    "selected_features = [\n",
    "    \"Age\",\n",
    "    \"HourlyRate\",\n",
    "    \"DistanceFromHome\",\n",
    "    \"Education\",\n",
    "    \"EnvironmentSatisfaction\",\n",
    "    \"JobInvolvement\",\n",
    "    \"JobLevel\",\n",
    "    \"JobSatisfaction\",\n",
    "    \"PerformanceRating\",\n",
    "    \"TotalWorkingYears\"\n",
    "]\n",
    "\n",
    "# Create X_df using your selected columns\n",
    "X_df = attrition_df[selected_features]\n",
    "\n",
    "# Show the data types for X_df\n",
    "X_df.dtypes"
   ]
  },
  {
   "cell_type": "code",
   "execution_count": 6,
   "metadata": {
    "executionInfo": {
     "elapsed": 9,
     "status": "ok",
     "timestamp": 1730699227025,
     "user": {
      "displayName": "Alexander Booth",
      "userId": "02269714993535573104"
     },
     "user_tz": 360
    },
    "id": "KaJfdOGUMHMR"
   },
   "outputs": [],
   "source": [
    "# Split the data into training and testing sets\n",
    "from sklearn.model_selection import train_test_split\n",
    "X_train, X_test, y_train, y_test = train_test_split(X_df, y_df, random_state=42)"
   ]
  },
  {
   "cell_type": "code",
   "execution_count": 7,
   "metadata": {
    "colab": {
     "base_uri": "https://localhost:8080/",
     "height": 178
    },
    "executionInfo": {
     "elapsed": 8,
     "status": "ok",
     "timestamp": 1730699227025,
     "user": {
      "displayName": "Alexander Booth",
      "userId": "02269714993535573104"
     },
     "user_tz": 360
    },
    "id": "NYubUJqiLCSp",
    "outputId": "6116187c-4afa-4d4a-aeb9-fdc2131d0d58"
   },
   "outputs": [
    {
     "name": "stdout",
     "output_type": "stream",
     "text": [
      "<class 'pandas.core.frame.DataFrame'>\n",
      "Index: 1102 entries, 1343 to 1126\n",
      "Data columns (total 10 columns):\n",
      " #   Column                   Non-Null Count  Dtype\n",
      "---  ------                   --------------  -----\n",
      " 0   Age                      1102 non-null   int64\n",
      " 1   HourlyRate               1102 non-null   int64\n",
      " 2   DistanceFromHome         1102 non-null   int64\n",
      " 3   Education                1102 non-null   int64\n",
      " 4   EnvironmentSatisfaction  1102 non-null   int64\n",
      " 5   JobInvolvement           1102 non-null   int64\n",
      " 6   JobLevel                 1102 non-null   int64\n",
      " 7   JobSatisfaction          1102 non-null   int64\n",
      " 8   PerformanceRating        1102 non-null   int64\n",
      " 9   TotalWorkingYears        1102 non-null   int64\n",
      "dtypes: int64(10)\n",
      "memory usage: 94.7 KB\n",
      "<class 'pandas.core.frame.DataFrame'>\n",
      "Index: 368 entries, 1041 to 1370\n",
      "Data columns (total 10 columns):\n",
      " #   Column                   Non-Null Count  Dtype\n",
      "---  ------                   --------------  -----\n",
      " 0   Age                      368 non-null    int64\n",
      " 1   HourlyRate               368 non-null    int64\n",
      " 2   DistanceFromHome         368 non-null    int64\n",
      " 3   Education                368 non-null    int64\n",
      " 4   EnvironmentSatisfaction  368 non-null    int64\n",
      " 5   JobInvolvement           368 non-null    int64\n",
      " 6   JobLevel                 368 non-null    int64\n",
      " 7   JobSatisfaction          368 non-null    int64\n",
      " 8   PerformanceRating        368 non-null    int64\n",
      " 9   TotalWorkingYears        368 non-null    int64\n",
      "dtypes: int64(10)\n",
      "memory usage: 31.6 KB\n"
     ]
    }
   ],
   "source": [
    "# Convert your X data to numeric data types however you see fit\n",
    "# Add new code cells as necessary\n",
    "X_train.info()\n",
    "X_test.info()"
   ]
  },
  {
   "cell_type": "code",
   "execution_count": 9,
   "metadata": {
    "executionInfo": {
     "elapsed": 6,
     "status": "ok",
     "timestamp": 1730699227162,
     "user": {
      "displayName": "Alexander Booth",
      "userId": "02269714993535573104"
     },
     "user_tz": 360
    },
    "id": "EWA-aIA5Gc3T"
   },
   "outputs": [],
   "source": [
    "# Create a StandardScaler\n",
    "\n",
    "scaler = StandardScaler()\n",
    "# Fit the StandardScaler to the training data\n",
    "X_train_scaled = scaler.fit_transform(X_train)\n",
    "\n",
    "# Scale the training and testing data\n",
    "X_test_scaled = scaler.transform(X_test)"
   ]
  },
  {
   "cell_type": "code",
   "execution_count": 11,
   "metadata": {
    "colab": {
     "base_uri": "https://localhost:8080/"
    },
    "executionInfo": {
     "elapsed": 99,
     "status": "ok",
     "timestamp": 1730699227256,
     "user": {
      "displayName": "Alexander Booth",
      "userId": "02269714993535573104"
     },
     "user_tz": 360
    },
    "id": "-z0Mky8vQSz4",
    "outputId": "5024d63f-7e4e-4a91-fb76-0b2c79c1bcfb"
   },
   "outputs": [],
   "source": [
    "from sklearn.preprocessing import OneHotEncoder\n",
    "\n",
    "# Create a OneHotEncoder for the Department column\n",
    "dept_encoder = OneHotEncoder(sparse_output =False)\n",
    "\n",
    "# Fit the encoder to the training data\n",
    "y_train_dept = dept_encoder.fit_transform(y_train[[\"Department\"]])\n",
    "\n",
    "# Create two new variables by applying the encoder\n",
    "# to the training and testing data\n",
    "y_test_dept = dept_encoder.transform(y_test[[\"Department\"]])"
   ]
  },
  {
   "cell_type": "code",
   "execution_count": 12,
   "metadata": {
    "colab": {
     "base_uri": "https://localhost:8080/"
    },
    "executionInfo": {
     "elapsed": 5,
     "status": "ok",
     "timestamp": 1730699227257,
     "user": {
      "displayName": "Alexander Booth",
      "userId": "02269714993535573104"
     },
     "user_tz": 360
    },
    "id": "-G4DSpvFRrk4",
    "outputId": "1821049e-a4f0-437f-b8a7-e415431fbdb0"
   },
   "outputs": [],
   "source": [
    "# Create a OneHotEncoder for the Attrition column\n",
    "attrition_encoder = OneHotEncoder(sparse_output=False)\n",
    "\n",
    "# Fit the encoder to the training data\n",
    "y_train_attr = attrition_encoder.fit_transform(y_train[[\"Attrition\"]])\n",
    "\n",
    "# Create two new variables by applying the encoder\n",
    "# to the training and testing data\n",
    "y_test_attr = attrition_encoder.transform(y_test[[\"Attrition\"]])"
   ]
  },
  {
   "cell_type": "markdown",
   "metadata": {
    "id": "ykNmu_WWGc3T"
   },
   "source": [
    "## Part 2: Create, Compile, and Train the Model"
   ]
  },
  {
   "cell_type": "code",
   "execution_count": 13,
   "metadata": {
    "executionInfo": {
     "elapsed": 309,
     "status": "ok",
     "timestamp": 1730699227563,
     "user": {
      "displayName": "Alexander Booth",
      "userId": "02269714993535573104"
     },
     "user_tz": 360
    },
    "id": "WUptZqmSGc3T"
   },
   "outputs": [
    {
     "name": "stdout",
     "output_type": "stream",
     "text": [
      "Number of input features: 10\n"
     ]
    }
   ],
   "source": [
    "# Find the number of columns in the X training data.\n",
    "\n",
    "input_dim = X_train.shape[1]\n",
    "print(f\"Number of input features: {input_dim}\")\n",
    "# Create the input layer\n",
    "input_layer = layers.Input(shape=(input_dim,))\n",
    "\n",
    "# Create at least two shared layers\n",
    "shared_layer1 = layers.Dense(64, activation='relu')(input_layer)\n",
    "shared_layer2 = layers.Dense(32, activation='relu')(shared_layer1)"
   ]
  },
  {
   "cell_type": "code",
   "execution_count": 14,
   "metadata": {
    "executionInfo": {
     "elapsed": 118,
     "status": "ok",
     "timestamp": 1730699227678,
     "user": {
      "displayName": "Alexander Booth",
      "userId": "02269714993535573104"
     },
     "user_tz": 360
    },
    "id": "JukjTm2yTEqd"
   },
   "outputs": [],
   "source": [
    "# Create a branch for Department\n",
    "# with a hidden layer and an output layer\n",
    "dept_hidden = layers.Dense(16, activation='relu')(shared_layer2)\n",
    "# Create the hidden layer\n",
    "dept_output = layers.Dense(y_train_dept.shape[1], activation='softmax', name='department')(dept_hidden)\n",
    "\n",
    "# Create the output layer\n"
   ]
  },
  {
   "cell_type": "code",
   "execution_count": 15,
   "metadata": {
    "executionInfo": {
     "elapsed": 9,
     "status": "ok",
     "timestamp": 1730699227679,
     "user": {
      "displayName": "Alexander Booth",
      "userId": "02269714993535573104"
     },
     "user_tz": 360
    },
    "id": "9OqhUiOJUBkR"
   },
   "outputs": [],
   "source": [
    "# Create a branch for Attrition\n",
    "# with a hidden layer and an output layer\n",
    "\n",
    "# Create the hidden layer\n",
    "attrition_hidden = layers.Dense(16, activation='relu')(shared_layer2)\n",
    "\n",
    "# Create the output layer\n",
    "attrition_output = layers.Dense(y_train_attr.shape[1], activation='softmax', name='attrition')(attrition_hidden)"
   ]
  },
  {
   "cell_type": "code",
   "execution_count": 16,
   "metadata": {
    "colab": {
     "base_uri": "https://localhost:8080/",
     "height": 361
    },
    "executionInfo": {
     "elapsed": 108,
     "status": "ok",
     "timestamp": 1730699227780,
     "user": {
      "displayName": "Alexander Booth",
      "userId": "02269714993535573104"
     },
     "user_tz": 360
    },
    "id": "twmuejdxGc3T",
    "outputId": "dd9ce242-6a66-4709-ba13-4b13551c22e0"
   },
   "outputs": [
    {
     "data": {
      "text/html": [
       "<pre style=\"white-space:pre;overflow-x:auto;line-height:normal;font-family:Menlo,'DejaVu Sans Mono',consolas,'Courier New',monospace\"><span style=\"font-weight: bold\">Model: \"functional\"</span>\n",
       "</pre>\n"
      ],
      "text/plain": [
       "\u001b[1mModel: \"functional\"\u001b[0m\n"
      ]
     },
     "metadata": {},
     "output_type": "display_data"
    },
    {
     "data": {
      "text/html": [
       "<pre style=\"white-space:pre;overflow-x:auto;line-height:normal;font-family:Menlo,'DejaVu Sans Mono',consolas,'Courier New',monospace\">┏━━━━━━━━━━━━━━━━━━━━━┳━━━━━━━━━━━━━━━━━━━┳━━━━━━━━━━━━┳━━━━━━━━━━━━━━━━━━━┓\n",
       "┃<span style=\"font-weight: bold\"> Layer (type)        </span>┃<span style=\"font-weight: bold\"> Output Shape      </span>┃<span style=\"font-weight: bold\">    Param # </span>┃<span style=\"font-weight: bold\"> Connected to      </span>┃\n",
       "┡━━━━━━━━━━━━━━━━━━━━━╇━━━━━━━━━━━━━━━━━━━╇━━━━━━━━━━━━╇━━━━━━━━━━━━━━━━━━━┩\n",
       "│ input_layer         │ (<span style=\"color: #00d7ff; text-decoration-color: #00d7ff\">None</span>, <span style=\"color: #00af00; text-decoration-color: #00af00\">10</span>)        │          <span style=\"color: #00af00; text-decoration-color: #00af00\">0</span> │ -                 │\n",
       "│ (<span style=\"color: #0087ff; text-decoration-color: #0087ff\">InputLayer</span>)        │                   │            │                   │\n",
       "├─────────────────────┼───────────────────┼────────────┼───────────────────┤\n",
       "│ dense (<span style=\"color: #0087ff; text-decoration-color: #0087ff\">Dense</span>)       │ (<span style=\"color: #00d7ff; text-decoration-color: #00d7ff\">None</span>, <span style=\"color: #00af00; text-decoration-color: #00af00\">64</span>)        │        <span style=\"color: #00af00; text-decoration-color: #00af00\">704</span> │ input_layer[<span style=\"color: #00af00; text-decoration-color: #00af00\">0</span>][<span style=\"color: #00af00; text-decoration-color: #00af00\">0</span>] │\n",
       "├─────────────────────┼───────────────────┼────────────┼───────────────────┤\n",
       "│ dense_1 (<span style=\"color: #0087ff; text-decoration-color: #0087ff\">Dense</span>)     │ (<span style=\"color: #00d7ff; text-decoration-color: #00d7ff\">None</span>, <span style=\"color: #00af00; text-decoration-color: #00af00\">32</span>)        │      <span style=\"color: #00af00; text-decoration-color: #00af00\">2,080</span> │ dense[<span style=\"color: #00af00; text-decoration-color: #00af00\">0</span>][<span style=\"color: #00af00; text-decoration-color: #00af00\">0</span>]       │\n",
       "├─────────────────────┼───────────────────┼────────────┼───────────────────┤\n",
       "│ dense_2 (<span style=\"color: #0087ff; text-decoration-color: #0087ff\">Dense</span>)     │ (<span style=\"color: #00d7ff; text-decoration-color: #00d7ff\">None</span>, <span style=\"color: #00af00; text-decoration-color: #00af00\">16</span>)        │        <span style=\"color: #00af00; text-decoration-color: #00af00\">528</span> │ dense_1[<span style=\"color: #00af00; text-decoration-color: #00af00\">0</span>][<span style=\"color: #00af00; text-decoration-color: #00af00\">0</span>]     │\n",
       "├─────────────────────┼───────────────────┼────────────┼───────────────────┤\n",
       "│ dense_3 (<span style=\"color: #0087ff; text-decoration-color: #0087ff\">Dense</span>)     │ (<span style=\"color: #00d7ff; text-decoration-color: #00d7ff\">None</span>, <span style=\"color: #00af00; text-decoration-color: #00af00\">16</span>)        │        <span style=\"color: #00af00; text-decoration-color: #00af00\">528</span> │ dense_1[<span style=\"color: #00af00; text-decoration-color: #00af00\">0</span>][<span style=\"color: #00af00; text-decoration-color: #00af00\">0</span>]     │\n",
       "├─────────────────────┼───────────────────┼────────────┼───────────────────┤\n",
       "│ department (<span style=\"color: #0087ff; text-decoration-color: #0087ff\">Dense</span>)  │ (<span style=\"color: #00d7ff; text-decoration-color: #00d7ff\">None</span>, <span style=\"color: #00af00; text-decoration-color: #00af00\">3</span>)         │         <span style=\"color: #00af00; text-decoration-color: #00af00\">51</span> │ dense_2[<span style=\"color: #00af00; text-decoration-color: #00af00\">0</span>][<span style=\"color: #00af00; text-decoration-color: #00af00\">0</span>]     │\n",
       "├─────────────────────┼───────────────────┼────────────┼───────────────────┤\n",
       "│ attrition (<span style=\"color: #0087ff; text-decoration-color: #0087ff\">Dense</span>)   │ (<span style=\"color: #00d7ff; text-decoration-color: #00d7ff\">None</span>, <span style=\"color: #00af00; text-decoration-color: #00af00\">2</span>)         │         <span style=\"color: #00af00; text-decoration-color: #00af00\">34</span> │ dense_3[<span style=\"color: #00af00; text-decoration-color: #00af00\">0</span>][<span style=\"color: #00af00; text-decoration-color: #00af00\">0</span>]     │\n",
       "└─────────────────────┴───────────────────┴────────────┴───────────────────┘\n",
       "</pre>\n"
      ],
      "text/plain": [
       "┏━━━━━━━━━━━━━━━━━━━━━┳━━━━━━━━━━━━━━━━━━━┳━━━━━━━━━━━━┳━━━━━━━━━━━━━━━━━━━┓\n",
       "┃\u001b[1m \u001b[0m\u001b[1mLayer (type)       \u001b[0m\u001b[1m \u001b[0m┃\u001b[1m \u001b[0m\u001b[1mOutput Shape     \u001b[0m\u001b[1m \u001b[0m┃\u001b[1m \u001b[0m\u001b[1m   Param #\u001b[0m\u001b[1m \u001b[0m┃\u001b[1m \u001b[0m\u001b[1mConnected to     \u001b[0m\u001b[1m \u001b[0m┃\n",
       "┡━━━━━━━━━━━━━━━━━━━━━╇━━━━━━━━━━━━━━━━━━━╇━━━━━━━━━━━━╇━━━━━━━━━━━━━━━━━━━┩\n",
       "│ input_layer         │ (\u001b[38;5;45mNone\u001b[0m, \u001b[38;5;34m10\u001b[0m)        │          \u001b[38;5;34m0\u001b[0m │ -                 │\n",
       "│ (\u001b[38;5;33mInputLayer\u001b[0m)        │                   │            │                   │\n",
       "├─────────────────────┼───────────────────┼────────────┼───────────────────┤\n",
       "│ dense (\u001b[38;5;33mDense\u001b[0m)       │ (\u001b[38;5;45mNone\u001b[0m, \u001b[38;5;34m64\u001b[0m)        │        \u001b[38;5;34m704\u001b[0m │ input_layer[\u001b[38;5;34m0\u001b[0m][\u001b[38;5;34m0\u001b[0m] │\n",
       "├─────────────────────┼───────────────────┼────────────┼───────────────────┤\n",
       "│ dense_1 (\u001b[38;5;33mDense\u001b[0m)     │ (\u001b[38;5;45mNone\u001b[0m, \u001b[38;5;34m32\u001b[0m)        │      \u001b[38;5;34m2,080\u001b[0m │ dense[\u001b[38;5;34m0\u001b[0m][\u001b[38;5;34m0\u001b[0m]       │\n",
       "├─────────────────────┼───────────────────┼────────────┼───────────────────┤\n",
       "│ dense_2 (\u001b[38;5;33mDense\u001b[0m)     │ (\u001b[38;5;45mNone\u001b[0m, \u001b[38;5;34m16\u001b[0m)        │        \u001b[38;5;34m528\u001b[0m │ dense_1[\u001b[38;5;34m0\u001b[0m][\u001b[38;5;34m0\u001b[0m]     │\n",
       "├─────────────────────┼───────────────────┼────────────┼───────────────────┤\n",
       "│ dense_3 (\u001b[38;5;33mDense\u001b[0m)     │ (\u001b[38;5;45mNone\u001b[0m, \u001b[38;5;34m16\u001b[0m)        │        \u001b[38;5;34m528\u001b[0m │ dense_1[\u001b[38;5;34m0\u001b[0m][\u001b[38;5;34m0\u001b[0m]     │\n",
       "├─────────────────────┼───────────────────┼────────────┼───────────────────┤\n",
       "│ department (\u001b[38;5;33mDense\u001b[0m)  │ (\u001b[38;5;45mNone\u001b[0m, \u001b[38;5;34m3\u001b[0m)         │         \u001b[38;5;34m51\u001b[0m │ dense_2[\u001b[38;5;34m0\u001b[0m][\u001b[38;5;34m0\u001b[0m]     │\n",
       "├─────────────────────┼───────────────────┼────────────┼───────────────────┤\n",
       "│ attrition (\u001b[38;5;33mDense\u001b[0m)   │ (\u001b[38;5;45mNone\u001b[0m, \u001b[38;5;34m2\u001b[0m)         │         \u001b[38;5;34m34\u001b[0m │ dense_3[\u001b[38;5;34m0\u001b[0m][\u001b[38;5;34m0\u001b[0m]     │\n",
       "└─────────────────────┴───────────────────┴────────────┴───────────────────┘\n"
      ]
     },
     "metadata": {},
     "output_type": "display_data"
    },
    {
     "data": {
      "text/html": [
       "<pre style=\"white-space:pre;overflow-x:auto;line-height:normal;font-family:Menlo,'DejaVu Sans Mono',consolas,'Courier New',monospace\"><span style=\"font-weight: bold\"> Total params: </span><span style=\"color: #00af00; text-decoration-color: #00af00\">3,925</span> (15.33 KB)\n",
       "</pre>\n"
      ],
      "text/plain": [
       "\u001b[1m Total params: \u001b[0m\u001b[38;5;34m3,925\u001b[0m (15.33 KB)\n"
      ]
     },
     "metadata": {},
     "output_type": "display_data"
    },
    {
     "data": {
      "text/html": [
       "<pre style=\"white-space:pre;overflow-x:auto;line-height:normal;font-family:Menlo,'DejaVu Sans Mono',consolas,'Courier New',monospace\"><span style=\"font-weight: bold\"> Trainable params: </span><span style=\"color: #00af00; text-decoration-color: #00af00\">3,925</span> (15.33 KB)\n",
       "</pre>\n"
      ],
      "text/plain": [
       "\u001b[1m Trainable params: \u001b[0m\u001b[38;5;34m3,925\u001b[0m (15.33 KB)\n"
      ]
     },
     "metadata": {},
     "output_type": "display_data"
    },
    {
     "data": {
      "text/html": [
       "<pre style=\"white-space:pre;overflow-x:auto;line-height:normal;font-family:Menlo,'DejaVu Sans Mono',consolas,'Courier New',monospace\"><span style=\"font-weight: bold\"> Non-trainable params: </span><span style=\"color: #00af00; text-decoration-color: #00af00\">0</span> (0.00 B)\n",
       "</pre>\n"
      ],
      "text/plain": [
       "\u001b[1m Non-trainable params: \u001b[0m\u001b[38;5;34m0\u001b[0m (0.00 B)\n"
      ]
     },
     "metadata": {},
     "output_type": "display_data"
    }
   ],
   "source": [
    "# Create the model\n",
    "\n",
    "model = Model(inputs=input_layer, outputs=[dept_output, attrition_output])\n",
    "# Compile the model\n",
    "model.compile(\n",
    "    optimizer='adam',\n",
    "    loss={\n",
    "        'department': 'categorical_crossentropy',\n",
    "        'attrition': 'categorical_crossentropy'\n",
    "    },\n",
    "    metrics=['accuracy']\n",
    ")\n",
    "\n",
    "# Summarize the model\n",
    "model.summary()"
   ]
  },
  {
   "cell_type": "code",
   "execution_count": 22,
   "metadata": {
    "colab": {
     "base_uri": "https://localhost:8080/"
    },
    "executionInfo": {
     "elapsed": 31740,
     "status": "ok",
     "timestamp": 1730699259517,
     "user": {
      "displayName": "Alexander Booth",
      "userId": "02269714993535573104"
     },
     "user_tz": 360
    },
    "id": "c8oGy0dpGc3U",
    "outputId": "f48a5292-426f-4715-ea6e-381a8e9d5542"
   },
   "outputs": [
    {
     "name": "stdout",
     "output_type": "stream",
     "text": [
      "Epoch 1/100\n",
      "\u001b[1m28/28\u001b[0m \u001b[32m━━━━━━━━━━━━━━━━━━━━\u001b[0m\u001b[37m\u001b[0m \u001b[1m0s\u001b[0m 4ms/step - attrition_accuracy: 0.9300 - attrition_loss: 0.1990 - department_accuracy: 0.8408 - department_loss: 0.4028 - loss: 0.6019 - val_attrition_accuracy: 0.7738 - val_attrition_loss: 0.6426 - val_department_accuracy: 0.5656 - val_department_loss: 1.1191 - val_loss: 1.7659\n",
      "Epoch 2/100\n",
      "\u001b[1m28/28\u001b[0m \u001b[32m━━━━━━━━━━━━━━━━━━━━\u001b[0m\u001b[37m\u001b[0m \u001b[1m0s\u001b[0m 3ms/step - attrition_accuracy: 0.9079 - attrition_loss: 0.2265 - department_accuracy: 0.8433 - department_loss: 0.3980 - loss: 0.6246 - val_attrition_accuracy: 0.7783 - val_attrition_loss: 0.6357 - val_department_accuracy: 0.5792 - val_department_loss: 1.1485 - val_loss: 1.7890\n",
      "Epoch 3/100\n",
      "\u001b[1m28/28\u001b[0m \u001b[32m━━━━━━━━━━━━━━━━━━━━\u001b[0m\u001b[37m\u001b[0m \u001b[1m0s\u001b[0m 3ms/step - attrition_accuracy: 0.9037 - attrition_loss: 0.2201 - department_accuracy: 0.8111 - department_loss: 0.4256 - loss: 0.6455 - val_attrition_accuracy: 0.7828 - val_attrition_loss: 0.6724 - val_department_accuracy: 0.5566 - val_department_loss: 1.1425 - val_loss: 1.8191\n",
      "Epoch 4/100\n",
      "\u001b[1m28/28\u001b[0m \u001b[32m━━━━━━━━━━━━━━━━━━━━\u001b[0m\u001b[37m\u001b[0m \u001b[1m0s\u001b[0m 3ms/step - attrition_accuracy: 0.9149 - attrition_loss: 0.1955 - department_accuracy: 0.8551 - department_loss: 0.3763 - loss: 0.5717 - val_attrition_accuracy: 0.7873 - val_attrition_loss: 0.6689 - val_department_accuracy: 0.5475 - val_department_loss: 1.1779 - val_loss: 1.8510\n",
      "Epoch 5/100\n",
      "\u001b[1m28/28\u001b[0m \u001b[32m━━━━━━━━━━━━━━━━━━━━\u001b[0m\u001b[37m\u001b[0m \u001b[1m0s\u001b[0m 3ms/step - attrition_accuracy: 0.9184 - attrition_loss: 0.2129 - department_accuracy: 0.8541 - department_loss: 0.3702 - loss: 0.5835 - val_attrition_accuracy: 0.7783 - val_attrition_loss: 0.6855 - val_department_accuracy: 0.5611 - val_department_loss: 1.1574 - val_loss: 1.8469\n",
      "Epoch 6/100\n",
      "\u001b[1m28/28\u001b[0m \u001b[32m━━━━━━━━━━━━━━━━━━━━\u001b[0m\u001b[37m\u001b[0m \u001b[1m0s\u001b[0m 3ms/step - attrition_accuracy: 0.9090 - attrition_loss: 0.2302 - department_accuracy: 0.8593 - department_loss: 0.3637 - loss: 0.5942 - val_attrition_accuracy: 0.7738 - val_attrition_loss: 0.6713 - val_department_accuracy: 0.5566 - val_department_loss: 1.1920 - val_loss: 1.8679\n",
      "Epoch 7/100\n",
      "\u001b[1m28/28\u001b[0m \u001b[32m━━━━━━━━━━━━━━━━━━━━\u001b[0m\u001b[37m\u001b[0m \u001b[1m0s\u001b[0m 3ms/step - attrition_accuracy: 0.9064 - attrition_loss: 0.2141 - department_accuracy: 0.8748 - department_loss: 0.3444 - loss: 0.5584 - val_attrition_accuracy: 0.7692 - val_attrition_loss: 0.6790 - val_department_accuracy: 0.5611 - val_department_loss: 1.1792 - val_loss: 1.8630\n",
      "Epoch 8/100\n",
      "\u001b[1m28/28\u001b[0m \u001b[32m━━━━━━━━━━━━━━━━━━━━\u001b[0m\u001b[37m\u001b[0m \u001b[1m0s\u001b[0m 3ms/step - attrition_accuracy: 0.9106 - attrition_loss: 0.2130 - department_accuracy: 0.8635 - department_loss: 0.3461 - loss: 0.5593 - val_attrition_accuracy: 0.7783 - val_attrition_loss: 0.6830 - val_department_accuracy: 0.5430 - val_department_loss: 1.2307 - val_loss: 1.9184\n",
      "Epoch 9/100\n",
      "\u001b[1m28/28\u001b[0m \u001b[32m━━━━━━━━━━━━━━━━━━━━\u001b[0m\u001b[37m\u001b[0m \u001b[1m0s\u001b[0m 3ms/step - attrition_accuracy: 0.9314 - attrition_loss: 0.1848 - department_accuracy: 0.8560 - department_loss: 0.3525 - loss: 0.5374 - val_attrition_accuracy: 0.7647 - val_attrition_loss: 0.6992 - val_department_accuracy: 0.5520 - val_department_loss: 1.1984 - val_loss: 1.9018\n",
      "Epoch 10/100\n",
      "\u001b[1m28/28\u001b[0m \u001b[32m━━━━━━━━━━━━━━━━━━━━\u001b[0m\u001b[37m\u001b[0m \u001b[1m0s\u001b[0m 3ms/step - attrition_accuracy: 0.9215 - attrition_loss: 0.2015 - department_accuracy: 0.8899 - department_loss: 0.3182 - loss: 0.5199 - val_attrition_accuracy: 0.7738 - val_attrition_loss: 0.6882 - val_department_accuracy: 0.5566 - val_department_loss: 1.2422 - val_loss: 1.9350\n",
      "Epoch 11/100\n",
      "\u001b[1m28/28\u001b[0m \u001b[32m━━━━━━━━━━━━━━━━━━━━\u001b[0m\u001b[37m\u001b[0m \u001b[1m0s\u001b[0m 3ms/step - attrition_accuracy: 0.9317 - attrition_loss: 0.1927 - department_accuracy: 0.8676 - department_loss: 0.3374 - loss: 0.5303 - val_attrition_accuracy: 0.7783 - val_attrition_loss: 0.6811 - val_department_accuracy: 0.5566 - val_department_loss: 1.2585 - val_loss: 1.9450\n",
      "Epoch 12/100\n",
      "\u001b[1m28/28\u001b[0m \u001b[32m━━━━━━━━━━━━━━━━━━━━\u001b[0m\u001b[37m\u001b[0m \u001b[1m0s\u001b[0m 3ms/step - attrition_accuracy: 0.9435 - attrition_loss: 0.1868 - department_accuracy: 0.8733 - department_loss: 0.3347 - loss: 0.5214 - val_attrition_accuracy: 0.7602 - val_attrition_loss: 0.7095 - val_department_accuracy: 0.5520 - val_department_loss: 1.2480 - val_loss: 1.9618\n",
      "Epoch 13/100\n",
      "\u001b[1m28/28\u001b[0m \u001b[32m━━━━━━━━━━━━━━━━━━━━\u001b[0m\u001b[37m\u001b[0m \u001b[1m0s\u001b[0m 3ms/step - attrition_accuracy: 0.9311 - attrition_loss: 0.1734 - department_accuracy: 0.8550 - department_loss: 0.3476 - loss: 0.5208 - val_attrition_accuracy: 0.7783 - val_attrition_loss: 0.6886 - val_department_accuracy: 0.5656 - val_department_loss: 1.3557 - val_loss: 2.0502\n",
      "Epoch 14/100\n",
      "\u001b[1m28/28\u001b[0m \u001b[32m━━━━━━━━━━━━━━━━━━━━\u001b[0m\u001b[37m\u001b[0m \u001b[1m0s\u001b[0m 3ms/step - attrition_accuracy: 0.9399 - attrition_loss: 0.1818 - department_accuracy: 0.8798 - department_loss: 0.3129 - loss: 0.4946 - val_attrition_accuracy: 0.7059 - val_attrition_loss: 0.7110 - val_department_accuracy: 0.5475 - val_department_loss: 1.3221 - val_loss: 2.0385\n",
      "Epoch 15/100\n",
      "\u001b[1m28/28\u001b[0m \u001b[32m━━━━━━━━━━━━━━━━━━━━\u001b[0m\u001b[37m\u001b[0m \u001b[1m0s\u001b[0m 3ms/step - attrition_accuracy: 0.9347 - attrition_loss: 0.1944 - department_accuracy: 0.8946 - department_loss: 0.2892 - loss: 0.4838 - val_attrition_accuracy: 0.7692 - val_attrition_loss: 0.7262 - val_department_accuracy: 0.5520 - val_department_loss: 1.3654 - val_loss: 2.0973\n",
      "Epoch 16/100\n",
      "\u001b[1m28/28\u001b[0m \u001b[32m━━━━━━━━━━━━━━━━━━━━\u001b[0m\u001b[37m\u001b[0m \u001b[1m0s\u001b[0m 3ms/step - attrition_accuracy: 0.9241 - attrition_loss: 0.1789 - department_accuracy: 0.8847 - department_loss: 0.2971 - loss: 0.4762 - val_attrition_accuracy: 0.7692 - val_attrition_loss: 0.7371 - val_department_accuracy: 0.5656 - val_department_loss: 1.3231 - val_loss: 2.0649\n",
      "Epoch 17/100\n",
      "\u001b[1m28/28\u001b[0m \u001b[32m━━━━━━━━━━━━━━━━━━━━\u001b[0m\u001b[37m\u001b[0m \u001b[1m0s\u001b[0m 3ms/step - attrition_accuracy: 0.9400 - attrition_loss: 0.1573 - department_accuracy: 0.8952 - department_loss: 0.2939 - loss: 0.4510 - val_attrition_accuracy: 0.7511 - val_attrition_loss: 0.7121 - val_department_accuracy: 0.5701 - val_department_loss: 1.3867 - val_loss: 2.1046\n",
      "Epoch 18/100\n",
      "\u001b[1m28/28\u001b[0m \u001b[32m━━━━━━━━━━━━━━━━━━━━\u001b[0m\u001b[37m\u001b[0m \u001b[1m0s\u001b[0m 3ms/step - attrition_accuracy: 0.9291 - attrition_loss: 0.1924 - department_accuracy: 0.8800 - department_loss: 0.3018 - loss: 0.4943 - val_attrition_accuracy: 0.7557 - val_attrition_loss: 0.7298 - val_department_accuracy: 0.5385 - val_department_loss: 1.4120 - val_loss: 2.1477\n",
      "Epoch 19/100\n",
      "\u001b[1m28/28\u001b[0m \u001b[32m━━━━━━━━━━━━━━━━━━━━\u001b[0m\u001b[37m\u001b[0m \u001b[1m0s\u001b[0m 3ms/step - attrition_accuracy: 0.9490 - attrition_loss: 0.1582 - department_accuracy: 0.8834 - department_loss: 0.3037 - loss: 0.4618 - val_attrition_accuracy: 0.7466 - val_attrition_loss: 0.7283 - val_department_accuracy: 0.5520 - val_department_loss: 1.4619 - val_loss: 2.1970\n",
      "Epoch 20/100\n",
      "\u001b[1m28/28\u001b[0m \u001b[32m━━━━━━━━━━━━━━━━━━━━\u001b[0m\u001b[37m\u001b[0m \u001b[1m0s\u001b[0m 3ms/step - attrition_accuracy: 0.9473 - attrition_loss: 0.1684 - department_accuracy: 0.8900 - department_loss: 0.2937 - loss: 0.4618 - val_attrition_accuracy: 0.7511 - val_attrition_loss: 0.7499 - val_department_accuracy: 0.5385 - val_department_loss: 1.3827 - val_loss: 2.1370\n",
      "Epoch 21/100\n",
      "\u001b[1m28/28\u001b[0m \u001b[32m━━━━━━━━━━━━━━━━━━━━\u001b[0m\u001b[37m\u001b[0m \u001b[1m0s\u001b[0m 3ms/step - attrition_accuracy: 0.9468 - attrition_loss: 0.1664 - department_accuracy: 0.9009 - department_loss: 0.2855 - loss: 0.4521 - val_attrition_accuracy: 0.7557 - val_attrition_loss: 0.7663 - val_department_accuracy: 0.5520 - val_department_loss: 1.4849 - val_loss: 2.2572\n",
      "Epoch 22/100\n",
      "\u001b[1m28/28\u001b[0m \u001b[32m━━━━━━━━━━━━━━━━━━━━\u001b[0m\u001b[37m\u001b[0m \u001b[1m0s\u001b[0m 3ms/step - attrition_accuracy: 0.9489 - attrition_loss: 0.1596 - department_accuracy: 0.8876 - department_loss: 0.2728 - loss: 0.4327 - val_attrition_accuracy: 0.7602 - val_attrition_loss: 0.7737 - val_department_accuracy: 0.5249 - val_department_loss: 1.4455 - val_loss: 2.2248\n",
      "Epoch 23/100\n",
      "\u001b[1m28/28\u001b[0m \u001b[32m━━━━━━━━━━━━━━━━━━━━\u001b[0m\u001b[37m\u001b[0m \u001b[1m0s\u001b[0m 3ms/step - attrition_accuracy: 0.9534 - attrition_loss: 0.1466 - department_accuracy: 0.9114 - department_loss: 0.2735 - loss: 0.4202 - val_attrition_accuracy: 0.7421 - val_attrition_loss: 0.7810 - val_department_accuracy: 0.5566 - val_department_loss: 1.5071 - val_loss: 2.2939\n",
      "Epoch 24/100\n",
      "\u001b[1m28/28\u001b[0m \u001b[32m━━━━━━━━━━━━━━━━━━━━\u001b[0m\u001b[37m\u001b[0m \u001b[1m0s\u001b[0m 3ms/step - attrition_accuracy: 0.9346 - attrition_loss: 0.1816 - department_accuracy: 0.8830 - department_loss: 0.2851 - loss: 0.4666 - val_attrition_accuracy: 0.7376 - val_attrition_loss: 0.8127 - val_department_accuracy: 0.5385 - val_department_loss: 1.4927 - val_loss: 2.3103\n",
      "Epoch 25/100\n",
      "\u001b[1m28/28\u001b[0m \u001b[32m━━━━━━━━━━━━━━━━━━━━\u001b[0m\u001b[37m\u001b[0m \u001b[1m0s\u001b[0m 3ms/step - attrition_accuracy: 0.9526 - attrition_loss: 0.1509 - department_accuracy: 0.9132 - department_loss: 0.2642 - loss: 0.4152 - val_attrition_accuracy: 0.7602 - val_attrition_loss: 0.8084 - val_department_accuracy: 0.5385 - val_department_loss: 1.5184 - val_loss: 2.3325\n",
      "Epoch 26/100\n",
      "\u001b[1m28/28\u001b[0m \u001b[32m━━━━━━━━━━━━━━━━━━━━\u001b[0m\u001b[37m\u001b[0m \u001b[1m0s\u001b[0m 3ms/step - attrition_accuracy: 0.9480 - attrition_loss: 0.1451 - department_accuracy: 0.9124 - department_loss: 0.2376 - loss: 0.3826 - val_attrition_accuracy: 0.7466 - val_attrition_loss: 0.8272 - val_department_accuracy: 0.5294 - val_department_loss: 1.5104 - val_loss: 2.3421\n",
      "Epoch 27/100\n",
      "\u001b[1m28/28\u001b[0m \u001b[32m━━━━━━━━━━━━━━━━━━━━\u001b[0m\u001b[37m\u001b[0m \u001b[1m0s\u001b[0m 3ms/step - attrition_accuracy: 0.9418 - attrition_loss: 0.1575 - department_accuracy: 0.9443 - department_loss: 0.2169 - loss: 0.3743 - val_attrition_accuracy: 0.7557 - val_attrition_loss: 0.8667 - val_department_accuracy: 0.5475 - val_department_loss: 1.5285 - val_loss: 2.3998\n",
      "Epoch 28/100\n",
      "\u001b[1m28/28\u001b[0m \u001b[32m━━━━━━━━━━━━━━━━━━━━\u001b[0m\u001b[37m\u001b[0m \u001b[1m0s\u001b[0m 3ms/step - attrition_accuracy: 0.9482 - attrition_loss: 0.1370 - department_accuracy: 0.9165 - department_loss: 0.2459 - loss: 0.3828 - val_attrition_accuracy: 0.7330 - val_attrition_loss: 0.8377 - val_department_accuracy: 0.5339 - val_department_loss: 1.5582 - val_loss: 2.4021\n",
      "Epoch 29/100\n",
      "\u001b[1m28/28\u001b[0m \u001b[32m━━━━━━━━━━━━━━━━━━━━\u001b[0m\u001b[37m\u001b[0m \u001b[1m0s\u001b[0m 3ms/step - attrition_accuracy: 0.9656 - attrition_loss: 0.1260 - department_accuracy: 0.9288 - department_loss: 0.2292 - loss: 0.3551 - val_attrition_accuracy: 0.7330 - val_attrition_loss: 0.8416 - val_department_accuracy: 0.5249 - val_department_loss: 1.5555 - val_loss: 2.4020\n",
      "Epoch 30/100\n",
      "\u001b[1m28/28\u001b[0m \u001b[32m━━━━━━━━━━━━━━━━━━━━\u001b[0m\u001b[37m\u001b[0m \u001b[1m0s\u001b[0m 3ms/step - attrition_accuracy: 0.9435 - attrition_loss: 0.1396 - department_accuracy: 0.9367 - department_loss: 0.2229 - loss: 0.3625 - val_attrition_accuracy: 0.7285 - val_attrition_loss: 0.8286 - val_department_accuracy: 0.5294 - val_department_loss: 1.5569 - val_loss: 2.3903\n",
      "Epoch 31/100\n",
      "\u001b[1m28/28\u001b[0m \u001b[32m━━━━━━━━━━━━━━━━━━━━\u001b[0m\u001b[37m\u001b[0m \u001b[1m0s\u001b[0m 3ms/step - attrition_accuracy: 0.9486 - attrition_loss: 0.1363 - department_accuracy: 0.9220 - department_loss: 0.2210 - loss: 0.3573 - val_attrition_accuracy: 0.7647 - val_attrition_loss: 0.8766 - val_department_accuracy: 0.5430 - val_department_loss: 1.6006 - val_loss: 2.4824\n",
      "Epoch 32/100\n",
      "\u001b[1m28/28\u001b[0m \u001b[32m━━━━━━━━━━━━━━━━━━━━\u001b[0m\u001b[37m\u001b[0m \u001b[1m0s\u001b[0m 3ms/step - attrition_accuracy: 0.9595 - attrition_loss: 0.1223 - department_accuracy: 0.9176 - department_loss: 0.2454 - loss: 0.3675 - val_attrition_accuracy: 0.7421 - val_attrition_loss: 0.8431 - val_department_accuracy: 0.5294 - val_department_loss: 1.5974 - val_loss: 2.4460\n",
      "Epoch 33/100\n",
      "\u001b[1m28/28\u001b[0m \u001b[32m━━━━━━━━━━━━━━━━━━━━\u001b[0m\u001b[37m\u001b[0m \u001b[1m0s\u001b[0m 3ms/step - attrition_accuracy: 0.9511 - attrition_loss: 0.1383 - department_accuracy: 0.9392 - department_loss: 0.2234 - loss: 0.3616 - val_attrition_accuracy: 0.7511 - val_attrition_loss: 0.9106 - val_department_accuracy: 0.5430 - val_department_loss: 1.6585 - val_loss: 2.5746\n",
      "Epoch 34/100\n",
      "\u001b[1m28/28\u001b[0m \u001b[32m━━━━━━━━━━━━━━━━━━━━\u001b[0m\u001b[37m\u001b[0m \u001b[1m0s\u001b[0m 3ms/step - attrition_accuracy: 0.9460 - attrition_loss: 0.1466 - department_accuracy: 0.9285 - department_loss: 0.2181 - loss: 0.3646 - val_attrition_accuracy: 0.7330 - val_attrition_loss: 0.8781 - val_department_accuracy: 0.5430 - val_department_loss: 1.6750 - val_loss: 2.5596\n",
      "Epoch 35/100\n",
      "\u001b[1m28/28\u001b[0m \u001b[32m━━━━━━━━━━━━━━━━━━━━\u001b[0m\u001b[37m\u001b[0m \u001b[1m0s\u001b[0m 3ms/step - attrition_accuracy: 0.9643 - attrition_loss: 0.1217 - department_accuracy: 0.9329 - department_loss: 0.2128 - loss: 0.3345 - val_attrition_accuracy: 0.7195 - val_attrition_loss: 0.8731 - val_department_accuracy: 0.5339 - val_department_loss: 1.6686 - val_loss: 2.5472\n",
      "Epoch 36/100\n",
      "\u001b[1m28/28\u001b[0m \u001b[32m━━━━━━━━━━━━━━━━━━━━\u001b[0m\u001b[37m\u001b[0m \u001b[1m0s\u001b[0m 3ms/step - attrition_accuracy: 0.9668 - attrition_loss: 0.1049 - department_accuracy: 0.9371 - department_loss: 0.2045 - loss: 0.3095 - val_attrition_accuracy: 0.7376 - val_attrition_loss: 0.9126 - val_department_accuracy: 0.5339 - val_department_loss: 1.6721 - val_loss: 2.5901\n",
      "Epoch 37/100\n",
      "\u001b[1m28/28\u001b[0m \u001b[32m━━━━━━━━━━━━━━━━━━━━\u001b[0m\u001b[37m\u001b[0m \u001b[1m0s\u001b[0m 3ms/step - attrition_accuracy: 0.9663 - attrition_loss: 0.1110 - department_accuracy: 0.9428 - department_loss: 0.1954 - loss: 0.3065 - val_attrition_accuracy: 0.7195 - val_attrition_loss: 0.8874 - val_department_accuracy: 0.5294 - val_department_loss: 1.7581 - val_loss: 2.6522\n",
      "Epoch 38/100\n",
      "\u001b[1m28/28\u001b[0m \u001b[32m━━━━━━━━━━━━━━━━━━━━\u001b[0m\u001b[37m\u001b[0m \u001b[1m0s\u001b[0m 3ms/step - attrition_accuracy: 0.9801 - attrition_loss: 0.1038 - department_accuracy: 0.9444 - department_loss: 0.1822 - loss: 0.2860 - val_attrition_accuracy: 0.7376 - val_attrition_loss: 0.9705 - val_department_accuracy: 0.5385 - val_department_loss: 1.7323 - val_loss: 2.7065\n",
      "Epoch 39/100\n",
      "\u001b[1m28/28\u001b[0m \u001b[32m━━━━━━━━━━━━━━━━━━━━\u001b[0m\u001b[37m\u001b[0m \u001b[1m0s\u001b[0m 3ms/step - attrition_accuracy: 0.9567 - attrition_loss: 0.1252 - department_accuracy: 0.9506 - department_loss: 0.1860 - loss: 0.3111 - val_attrition_accuracy: 0.7466 - val_attrition_loss: 0.8940 - val_department_accuracy: 0.5339 - val_department_loss: 1.7636 - val_loss: 2.6641\n",
      "Epoch 40/100\n",
      "\u001b[1m28/28\u001b[0m \u001b[32m━━━━━━━━━━━━━━━━━━━━\u001b[0m\u001b[37m\u001b[0m \u001b[1m0s\u001b[0m 3ms/step - attrition_accuracy: 0.9656 - attrition_loss: 0.1138 - department_accuracy: 0.9319 - department_loss: 0.2167 - loss: 0.3306 - val_attrition_accuracy: 0.7149 - val_attrition_loss: 0.9389 - val_department_accuracy: 0.5430 - val_department_loss: 1.7803 - val_loss: 2.7246\n",
      "Epoch 41/100\n",
      "\u001b[1m28/28\u001b[0m \u001b[32m━━━━━━━━━━━━━━━━━━━━\u001b[0m\u001b[37m\u001b[0m \u001b[1m0s\u001b[0m 3ms/step - attrition_accuracy: 0.9698 - attrition_loss: 0.1092 - department_accuracy: 0.9466 - department_loss: 0.1828 - loss: 0.2919 - val_attrition_accuracy: 0.7692 - val_attrition_loss: 0.9802 - val_department_accuracy: 0.5566 - val_department_loss: 1.8678 - val_loss: 2.8546\n",
      "Epoch 42/100\n",
      "\u001b[1m28/28\u001b[0m \u001b[32m━━━━━━━━━━━━━━━━━━━━\u001b[0m\u001b[37m\u001b[0m \u001b[1m0s\u001b[0m 3ms/step - attrition_accuracy: 0.9732 - attrition_loss: 0.0946 - department_accuracy: 0.9528 - department_loss: 0.1709 - loss: 0.2655 - val_attrition_accuracy: 0.7285 - val_attrition_loss: 0.9573 - val_department_accuracy: 0.5385 - val_department_loss: 1.7745 - val_loss: 2.7368\n",
      "Epoch 43/100\n",
      "\u001b[1m28/28\u001b[0m \u001b[32m━━━━━━━━━━━━━━━━━━━━\u001b[0m\u001b[37m\u001b[0m \u001b[1m0s\u001b[0m 3ms/step - attrition_accuracy: 0.9792 - attrition_loss: 0.1006 - department_accuracy: 0.9408 - department_loss: 0.2009 - loss: 0.3015 - val_attrition_accuracy: 0.7104 - val_attrition_loss: 0.9341 - val_department_accuracy: 0.5475 - val_department_loss: 1.8174 - val_loss: 2.7578\n",
      "Epoch 44/100\n",
      "\u001b[1m28/28\u001b[0m \u001b[32m━━━━━━━━━━━━━━━━━━━━\u001b[0m\u001b[37m\u001b[0m \u001b[1m0s\u001b[0m 3ms/step - attrition_accuracy: 0.9664 - attrition_loss: 0.1052 - department_accuracy: 0.9541 - department_loss: 0.1727 - loss: 0.2779 - val_attrition_accuracy: 0.7285 - val_attrition_loss: 0.9488 - val_department_accuracy: 0.5339 - val_department_loss: 1.8735 - val_loss: 2.8289\n",
      "Epoch 45/100\n",
      "\u001b[1m28/28\u001b[0m \u001b[32m━━━━━━━━━━━━━━━━━━━━\u001b[0m\u001b[37m\u001b[0m \u001b[1m0s\u001b[0m 3ms/step - attrition_accuracy: 0.9664 - attrition_loss: 0.1092 - department_accuracy: 0.9353 - department_loss: 0.1789 - loss: 0.2883 - val_attrition_accuracy: 0.7149 - val_attrition_loss: 1.0066 - val_department_accuracy: 0.5294 - val_department_loss: 1.8290 - val_loss: 2.8404\n",
      "Epoch 46/100\n",
      "\u001b[1m28/28\u001b[0m \u001b[32m━━━━━━━━━━━━━━━━━━━━\u001b[0m\u001b[37m\u001b[0m \u001b[1m0s\u001b[0m 3ms/step - attrition_accuracy: 0.9666 - attrition_loss: 0.1043 - department_accuracy: 0.9461 - department_loss: 0.1729 - loss: 0.2773 - val_attrition_accuracy: 0.7466 - val_attrition_loss: 1.0193 - val_department_accuracy: 0.5249 - val_department_loss: 1.9228 - val_loss: 2.9483\n",
      "Epoch 47/100\n",
      "\u001b[1m28/28\u001b[0m \u001b[32m━━━━━━━━━━━━━━━━━━━━\u001b[0m\u001b[37m\u001b[0m \u001b[1m0s\u001b[0m 3ms/step - attrition_accuracy: 0.9741 - attrition_loss: 0.0938 - department_accuracy: 0.9610 - department_loss: 0.1475 - loss: 0.2411 - val_attrition_accuracy: 0.7511 - val_attrition_loss: 1.0583 - val_department_accuracy: 0.5430 - val_department_loss: 1.8567 - val_loss: 2.9187\n",
      "Epoch 48/100\n",
      "\u001b[1m28/28\u001b[0m \u001b[32m━━━━━━━━━━━━━━━━━━━━\u001b[0m\u001b[37m\u001b[0m \u001b[1m0s\u001b[0m 3ms/step - attrition_accuracy: 0.9649 - attrition_loss: 0.1063 - department_accuracy: 0.9614 - department_loss: 0.1481 - loss: 0.2544 - val_attrition_accuracy: 0.7240 - val_attrition_loss: 1.0208 - val_department_accuracy: 0.5339 - val_department_loss: 1.9049 - val_loss: 2.9308\n",
      "Epoch 49/100\n",
      "\u001b[1m28/28\u001b[0m \u001b[32m━━━━━━━━━━━━━━━━━━━━\u001b[0m\u001b[37m\u001b[0m \u001b[1m0s\u001b[0m 3ms/step - attrition_accuracy: 0.9750 - attrition_loss: 0.1006 - department_accuracy: 0.9553 - department_loss: 0.1529 - loss: 0.2534 - val_attrition_accuracy: 0.7330 - val_attrition_loss: 1.0502 - val_department_accuracy: 0.5204 - val_department_loss: 1.9624 - val_loss: 3.0183\n",
      "Epoch 50/100\n",
      "\u001b[1m28/28\u001b[0m \u001b[32m━━━━━━━━━━━━━━━━━━━━\u001b[0m\u001b[37m\u001b[0m \u001b[1m0s\u001b[0m 3ms/step - attrition_accuracy: 0.9742 - attrition_loss: 0.0896 - department_accuracy: 0.9567 - department_loss: 0.1439 - loss: 0.2337 - val_attrition_accuracy: 0.7240 - val_attrition_loss: 1.0200 - val_department_accuracy: 0.5294 - val_department_loss: 2.0132 - val_loss: 3.0396\n",
      "Epoch 51/100\n",
      "\u001b[1m28/28\u001b[0m \u001b[32m━━━━━━━━━━━━━━━━━━━━\u001b[0m\u001b[37m\u001b[0m \u001b[1m0s\u001b[0m 3ms/step - attrition_accuracy: 0.9667 - attrition_loss: 0.1029 - department_accuracy: 0.9595 - department_loss: 0.1677 - loss: 0.2706 - val_attrition_accuracy: 0.7330 - val_attrition_loss: 1.0673 - val_department_accuracy: 0.5294 - val_department_loss: 1.9770 - val_loss: 3.0497\n",
      "Epoch 52/100\n",
      "\u001b[1m28/28\u001b[0m \u001b[32m━━━━━━━━━━━━━━━━━━━━\u001b[0m\u001b[37m\u001b[0m \u001b[1m0s\u001b[0m 4ms/step - attrition_accuracy: 0.9766 - attrition_loss: 0.0842 - department_accuracy: 0.9570 - department_loss: 0.1521 - loss: 0.2365 - val_attrition_accuracy: 0.7285 - val_attrition_loss: 1.0642 - val_department_accuracy: 0.5294 - val_department_loss: 2.0505 - val_loss: 3.1209\n",
      "Epoch 53/100\n",
      "\u001b[1m28/28\u001b[0m \u001b[32m━━━━━━━━━━━━━━━━━━━━\u001b[0m\u001b[37m\u001b[0m \u001b[1m0s\u001b[0m 3ms/step - attrition_accuracy: 0.9751 - attrition_loss: 0.0941 - department_accuracy: 0.9562 - department_loss: 0.1500 - loss: 0.2442 - val_attrition_accuracy: 0.7421 - val_attrition_loss: 1.0909 - val_department_accuracy: 0.5294 - val_department_loss: 2.0123 - val_loss: 3.1086\n",
      "Epoch 54/100\n",
      "\u001b[1m28/28\u001b[0m \u001b[32m━━━━━━━━━━━━━━━━━━━━\u001b[0m\u001b[37m\u001b[0m \u001b[1m0s\u001b[0m 3ms/step - attrition_accuracy: 0.9782 - attrition_loss: 0.0822 - department_accuracy: 0.9627 - department_loss: 0.1436 - loss: 0.2257 - val_attrition_accuracy: 0.7285 - val_attrition_loss: 1.0829 - val_department_accuracy: 0.5294 - val_department_loss: 2.1052 - val_loss: 3.1943\n",
      "Epoch 55/100\n",
      "\u001b[1m28/28\u001b[0m \u001b[32m━━━━━━━━━━━━━━━━━━━━\u001b[0m\u001b[37m\u001b[0m \u001b[1m0s\u001b[0m 3ms/step - attrition_accuracy: 0.9808 - attrition_loss: 0.0831 - department_accuracy: 0.9542 - department_loss: 0.1536 - loss: 0.2366 - val_attrition_accuracy: 0.7240 - val_attrition_loss: 1.0792 - val_department_accuracy: 0.5430 - val_department_loss: 2.0518 - val_loss: 3.1362\n",
      "Epoch 56/100\n",
      "\u001b[1m28/28\u001b[0m \u001b[32m━━━━━━━━━━━━━━━━━━━━\u001b[0m\u001b[37m\u001b[0m \u001b[1m0s\u001b[0m 3ms/step - attrition_accuracy: 0.9846 - attrition_loss: 0.0780 - department_accuracy: 0.9744 - department_loss: 0.1255 - loss: 0.2035 - val_attrition_accuracy: 0.7376 - val_attrition_loss: 1.1103 - val_department_accuracy: 0.5294 - val_department_loss: 2.0504 - val_loss: 3.1658\n",
      "Epoch 57/100\n",
      "\u001b[1m28/28\u001b[0m \u001b[32m━━━━━━━━━━━━━━━━━━━━\u001b[0m\u001b[37m\u001b[0m \u001b[1m0s\u001b[0m 3ms/step - attrition_accuracy: 0.9862 - attrition_loss: 0.0776 - department_accuracy: 0.9671 - department_loss: 0.1448 - loss: 0.2225 - val_attrition_accuracy: 0.7647 - val_attrition_loss: 1.2259 - val_department_accuracy: 0.5656 - val_department_loss: 2.2461 - val_loss: 3.4776\n",
      "Epoch 58/100\n",
      "\u001b[1m28/28\u001b[0m \u001b[32m━━━━━━━━━━━━━━━━━━━━\u001b[0m\u001b[37m\u001b[0m \u001b[1m0s\u001b[0m 3ms/step - attrition_accuracy: 0.9677 - attrition_loss: 0.0989 - department_accuracy: 0.9568 - department_loss: 0.1314 - loss: 0.2303 - val_attrition_accuracy: 0.7104 - val_attrition_loss: 1.1049 - val_department_accuracy: 0.5294 - val_department_loss: 2.1169 - val_loss: 3.2263\n",
      "Epoch 59/100\n",
      "\u001b[1m28/28\u001b[0m \u001b[32m━━━━━━━━━━━━━━━━━━━━\u001b[0m\u001b[37m\u001b[0m \u001b[1m0s\u001b[0m 3ms/step - attrition_accuracy: 0.9826 - attrition_loss: 0.0806 - department_accuracy: 0.9714 - department_loss: 0.1294 - loss: 0.2101 - val_attrition_accuracy: 0.7240 - val_attrition_loss: 1.1246 - val_department_accuracy: 0.5294 - val_department_loss: 2.1243 - val_loss: 3.2544\n",
      "Epoch 60/100\n",
      "\u001b[1m28/28\u001b[0m \u001b[32m━━━━━━━━━━━━━━━━━━━━\u001b[0m\u001b[37m\u001b[0m \u001b[1m0s\u001b[0m 4ms/step - attrition_accuracy: 0.9830 - attrition_loss: 0.0774 - department_accuracy: 0.9779 - department_loss: 0.1185 - loss: 0.1959 - val_attrition_accuracy: 0.7330 - val_attrition_loss: 1.1569 - val_department_accuracy: 0.5520 - val_department_loss: 2.1453 - val_loss: 3.3085\n",
      "Epoch 61/100\n",
      "\u001b[1m28/28\u001b[0m \u001b[32m━━━━━━━━━━━━━━━━━━━━\u001b[0m\u001b[37m\u001b[0m \u001b[1m0s\u001b[0m 3ms/step - attrition_accuracy: 0.9857 - attrition_loss: 0.0731 - department_accuracy: 0.9754 - department_loss: 0.1169 - loss: 0.1900 - val_attrition_accuracy: 0.7240 - val_attrition_loss: 1.1551 - val_department_accuracy: 0.5158 - val_department_loss: 2.1811 - val_loss: 3.3416\n",
      "Epoch 62/100\n",
      "\u001b[1m28/28\u001b[0m \u001b[32m━━━━━━━━━━━━━━━━━━━━\u001b[0m\u001b[37m\u001b[0m \u001b[1m0s\u001b[0m 5ms/step - attrition_accuracy: 0.9908 - attrition_loss: 0.0673 - department_accuracy: 0.9748 - department_loss: 0.1102 - loss: 0.1776 - val_attrition_accuracy: 0.7149 - val_attrition_loss: 1.1435 - val_department_accuracy: 0.5385 - val_department_loss: 2.2220 - val_loss: 3.3726\n",
      "Epoch 63/100\n",
      "\u001b[1m28/28\u001b[0m \u001b[32m━━━━━━━━━━━━━━━━━━━━\u001b[0m\u001b[37m\u001b[0m \u001b[1m0s\u001b[0m 4ms/step - attrition_accuracy: 0.9892 - attrition_loss: 0.0650 - department_accuracy: 0.9788 - department_loss: 0.1036 - loss: 0.1685 - val_attrition_accuracy: 0.7104 - val_attrition_loss: 1.1485 - val_department_accuracy: 0.5430 - val_department_loss: 2.2138 - val_loss: 3.3693\n",
      "Epoch 64/100\n",
      "\u001b[1m28/28\u001b[0m \u001b[32m━━━━━━━━━━━━━━━━━━━━\u001b[0m\u001b[37m\u001b[0m \u001b[1m0s\u001b[0m 4ms/step - attrition_accuracy: 0.9835 - attrition_loss: 0.0676 - department_accuracy: 0.9771 - department_loss: 0.1083 - loss: 0.1760 - val_attrition_accuracy: 0.7647 - val_attrition_loss: 1.2605 - val_department_accuracy: 0.5385 - val_department_loss: 2.2770 - val_loss: 3.5430\n",
      "Epoch 65/100\n",
      "\u001b[1m28/28\u001b[0m \u001b[32m━━━━━━━━━━━━━━━━━━━━\u001b[0m\u001b[37m\u001b[0m \u001b[1m0s\u001b[0m 3ms/step - attrition_accuracy: 0.9827 - attrition_loss: 0.0746 - department_accuracy: 0.9723 - department_loss: 0.1059 - loss: 0.1804 - val_attrition_accuracy: 0.7149 - val_attrition_loss: 1.2187 - val_department_accuracy: 0.5475 - val_department_loss: 2.2689 - val_loss: 3.4936\n",
      "Epoch 66/100\n",
      "\u001b[1m28/28\u001b[0m \u001b[32m━━━━━━━━━━━━━━━━━━━━\u001b[0m\u001b[37m\u001b[0m \u001b[1m0s\u001b[0m 3ms/step - attrition_accuracy: 0.9843 - attrition_loss: 0.0664 - department_accuracy: 0.9840 - department_loss: 0.1011 - loss: 0.1674 - val_attrition_accuracy: 0.7014 - val_attrition_loss: 1.1823 - val_department_accuracy: 0.5339 - val_department_loss: 2.2737 - val_loss: 3.4615\n",
      "Epoch 67/100\n",
      "\u001b[1m28/28\u001b[0m \u001b[32m━━━━━━━━━━━━━━━━━━━━\u001b[0m\u001b[37m\u001b[0m \u001b[1m0s\u001b[0m 3ms/step - attrition_accuracy: 0.9858 - attrition_loss: 0.0666 - department_accuracy: 0.9739 - department_loss: 0.0962 - loss: 0.1629 - val_attrition_accuracy: 0.7104 - val_attrition_loss: 1.2127 - val_department_accuracy: 0.5385 - val_department_loss: 2.3437 - val_loss: 3.5634\n",
      "Epoch 68/100\n",
      "\u001b[1m28/28\u001b[0m \u001b[32m━━━━━━━━━━━━━━━━━━━━\u001b[0m\u001b[37m\u001b[0m \u001b[1m0s\u001b[0m 3ms/step - attrition_accuracy: 0.9812 - attrition_loss: 0.0662 - department_accuracy: 0.9830 - department_loss: 0.1042 - loss: 0.1705 - val_attrition_accuracy: 0.7195 - val_attrition_loss: 1.2336 - val_department_accuracy: 0.5339 - val_department_loss: 2.3528 - val_loss: 3.5916\n",
      "Epoch 69/100\n",
      "\u001b[1m28/28\u001b[0m \u001b[32m━━━━━━━━━━━━━━━━━━━━\u001b[0m\u001b[37m\u001b[0m \u001b[1m0s\u001b[0m 3ms/step - attrition_accuracy: 0.9862 - attrition_loss: 0.0609 - department_accuracy: 0.9747 - department_loss: 0.0974 - loss: 0.1583 - val_attrition_accuracy: 0.7104 - val_attrition_loss: 1.2479 - val_department_accuracy: 0.5339 - val_department_loss: 2.3264 - val_loss: 3.5795\n",
      "Epoch 70/100\n",
      "\u001b[1m28/28\u001b[0m \u001b[32m━━━━━━━━━━━━━━━━━━━━\u001b[0m\u001b[37m\u001b[0m \u001b[1m0s\u001b[0m 3ms/step - attrition_accuracy: 0.9899 - attrition_loss: 0.0568 - department_accuracy: 0.9850 - department_loss: 0.0938 - loss: 0.1505 - val_attrition_accuracy: 0.7285 - val_attrition_loss: 1.2659 - val_department_accuracy: 0.5385 - val_department_loss: 2.4160 - val_loss: 3.6893\n",
      "Epoch 71/100\n",
      "\u001b[1m28/28\u001b[0m \u001b[32m━━━━━━━━━━━━━━━━━━━━\u001b[0m\u001b[37m\u001b[0m \u001b[1m0s\u001b[0m 3ms/step - attrition_accuracy: 0.9915 - attrition_loss: 0.0617 - department_accuracy: 0.9811 - department_loss: 0.0914 - loss: 0.1531 - val_attrition_accuracy: 0.7104 - val_attrition_loss: 1.2308 - val_department_accuracy: 0.5204 - val_department_loss: 2.3671 - val_loss: 3.6043\n",
      "Epoch 72/100\n",
      "\u001b[1m28/28\u001b[0m \u001b[32m━━━━━━━━━━━━━━━━━━━━\u001b[0m\u001b[37m\u001b[0m \u001b[1m0s\u001b[0m 3ms/step - attrition_accuracy: 0.9851 - attrition_loss: 0.0640 - department_accuracy: 0.9865 - department_loss: 0.0849 - loss: 0.1489 - val_attrition_accuracy: 0.7330 - val_attrition_loss: 1.2936 - val_department_accuracy: 0.5430 - val_department_loss: 2.4408 - val_loss: 3.7413\n",
      "Epoch 73/100\n",
      "\u001b[1m28/28\u001b[0m \u001b[32m━━━━━━━━━━━━━━━━━━━━\u001b[0m\u001b[37m\u001b[0m \u001b[1m0s\u001b[0m 3ms/step - attrition_accuracy: 0.9824 - attrition_loss: 0.0679 - department_accuracy: 0.9787 - department_loss: 0.1001 - loss: 0.1680 - val_attrition_accuracy: 0.7376 - val_attrition_loss: 1.3433 - val_department_accuracy: 0.5520 - val_department_loss: 2.4665 - val_loss: 3.8169\n",
      "Epoch 74/100\n",
      "\u001b[1m28/28\u001b[0m \u001b[32m━━━━━━━━━━━━━━━━━━━━\u001b[0m\u001b[37m\u001b[0m \u001b[1m0s\u001b[0m 3ms/step - attrition_accuracy: 0.9919 - attrition_loss: 0.0466 - department_accuracy: 0.9815 - department_loss: 0.0876 - loss: 0.1342 - val_attrition_accuracy: 0.7104 - val_attrition_loss: 1.3103 - val_department_accuracy: 0.5113 - val_department_loss: 2.4635 - val_loss: 3.7795\n",
      "Epoch 75/100\n",
      "\u001b[1m28/28\u001b[0m \u001b[32m━━━━━━━━━━━━━━━━━━━━\u001b[0m\u001b[37m\u001b[0m \u001b[1m0s\u001b[0m 3ms/step - attrition_accuracy: 0.9908 - attrition_loss: 0.0521 - department_accuracy: 0.9836 - department_loss: 0.0870 - loss: 0.1388 - val_attrition_accuracy: 0.7195 - val_attrition_loss: 1.2770 - val_department_accuracy: 0.5475 - val_department_loss: 2.4594 - val_loss: 3.7440\n",
      "Epoch 76/100\n",
      "\u001b[1m28/28\u001b[0m \u001b[32m━━━━━━━━━━━━━━━━━━━━\u001b[0m\u001b[37m\u001b[0m \u001b[1m0s\u001b[0m 3ms/step - attrition_accuracy: 0.9919 - attrition_loss: 0.0538 - department_accuracy: 0.9781 - department_loss: 0.0885 - loss: 0.1422 - val_attrition_accuracy: 0.7285 - val_attrition_loss: 1.3538 - val_department_accuracy: 0.5294 - val_department_loss: 2.5172 - val_loss: 3.8765\n",
      "Epoch 77/100\n",
      "\u001b[1m28/28\u001b[0m \u001b[32m━━━━━━━━━━━━━━━━━━━━\u001b[0m\u001b[37m\u001b[0m \u001b[1m0s\u001b[0m 3ms/step - attrition_accuracy: 0.9860 - attrition_loss: 0.0531 - department_accuracy: 0.9856 - department_loss: 0.0792 - loss: 0.1323 - val_attrition_accuracy: 0.7421 - val_attrition_loss: 1.3360 - val_department_accuracy: 0.5385 - val_department_loss: 2.5682 - val_loss: 3.9121\n",
      "Epoch 78/100\n",
      "\u001b[1m28/28\u001b[0m \u001b[32m━━━━━━━━━━━━━━━━━━━━\u001b[0m\u001b[37m\u001b[0m \u001b[1m0s\u001b[0m 3ms/step - attrition_accuracy: 0.9919 - attrition_loss: 0.0500 - department_accuracy: 0.9821 - department_loss: 0.0886 - loss: 0.1385 - val_attrition_accuracy: 0.7240 - val_attrition_loss: 1.3225 - val_department_accuracy: 0.5294 - val_department_loss: 2.5427 - val_loss: 3.8725\n",
      "Epoch 79/100\n",
      "\u001b[1m28/28\u001b[0m \u001b[32m━━━━━━━━━━━━━━━━━━━━\u001b[0m\u001b[37m\u001b[0m \u001b[1m0s\u001b[0m 3ms/step - attrition_accuracy: 0.9964 - attrition_loss: 0.0444 - department_accuracy: 0.9900 - department_loss: 0.0731 - loss: 0.1175 - val_attrition_accuracy: 0.7285 - val_attrition_loss: 1.3700 - val_department_accuracy: 0.5294 - val_department_loss: 2.6353 - val_loss: 4.0131\n",
      "Epoch 80/100\n",
      "\u001b[1m28/28\u001b[0m \u001b[32m━━━━━━━━━━━━━━━━━━━━\u001b[0m\u001b[37m\u001b[0m \u001b[1m0s\u001b[0m 3ms/step - attrition_accuracy: 0.9872 - attrition_loss: 0.0516 - department_accuracy: 0.9845 - department_loss: 0.0744 - loss: 0.1260 - val_attrition_accuracy: 0.7240 - val_attrition_loss: 1.3992 - val_department_accuracy: 0.5023 - val_department_loss: 2.5561 - val_loss: 3.9599\n",
      "Epoch 81/100\n",
      "\u001b[1m28/28\u001b[0m \u001b[32m━━━━━━━━━━━━━━━━━━━━\u001b[0m\u001b[37m\u001b[0m \u001b[1m0s\u001b[0m 3ms/step - attrition_accuracy: 0.9918 - attrition_loss: 0.0434 - department_accuracy: 0.9903 - department_loss: 0.0779 - loss: 0.1213 - val_attrition_accuracy: 0.7285 - val_attrition_loss: 1.3804 - val_department_accuracy: 0.5475 - val_department_loss: 2.6682 - val_loss: 4.0567\n",
      "Epoch 82/100\n",
      "\u001b[1m28/28\u001b[0m \u001b[32m━━━━━━━━━━━━━━━━━━━━\u001b[0m\u001b[37m\u001b[0m \u001b[1m0s\u001b[0m 3ms/step - attrition_accuracy: 0.9893 - attrition_loss: 0.0526 - department_accuracy: 0.9898 - department_loss: 0.0746 - loss: 0.1271 - val_attrition_accuracy: 0.7330 - val_attrition_loss: 1.3986 - val_department_accuracy: 0.5158 - val_department_loss: 2.6318 - val_loss: 4.0368\n",
      "Epoch 83/100\n",
      "\u001b[1m28/28\u001b[0m \u001b[32m━━━━━━━━━━━━━━━━━━━━\u001b[0m\u001b[37m\u001b[0m \u001b[1m0s\u001b[0m 3ms/step - attrition_accuracy: 0.9893 - attrition_loss: 0.0501 - department_accuracy: 0.9880 - department_loss: 0.0740 - loss: 0.1240 - val_attrition_accuracy: 0.7195 - val_attrition_loss: 1.3763 - val_department_accuracy: 0.5385 - val_department_loss: 2.7466 - val_loss: 4.1310\n",
      "Epoch 84/100\n",
      "\u001b[1m28/28\u001b[0m \u001b[32m━━━━━━━━━━━━━━━━━━━━\u001b[0m\u001b[37m\u001b[0m \u001b[1m0s\u001b[0m 3ms/step - attrition_accuracy: 0.9917 - attrition_loss: 0.0435 - department_accuracy: 0.9947 - department_loss: 0.0666 - loss: 0.1101 - val_attrition_accuracy: 0.7149 - val_attrition_loss: 1.4463 - val_department_accuracy: 0.5204 - val_department_loss: 2.6439 - val_loss: 4.0970\n",
      "Epoch 85/100\n",
      "\u001b[1m28/28\u001b[0m \u001b[32m━━━━━━━━━━━━━━━━━━━━\u001b[0m\u001b[37m\u001b[0m \u001b[1m0s\u001b[0m 3ms/step - attrition_accuracy: 0.9932 - attrition_loss: 0.0407 - department_accuracy: 0.9928 - department_loss: 0.0576 - loss: 0.0984 - val_attrition_accuracy: 0.7330 - val_attrition_loss: 1.4570 - val_department_accuracy: 0.5385 - val_department_loss: 2.7434 - val_loss: 4.2061\n",
      "Epoch 86/100\n",
      "\u001b[1m28/28\u001b[0m \u001b[32m━━━━━━━━━━━━━━━━━━━━\u001b[0m\u001b[37m\u001b[0m \u001b[1m0s\u001b[0m 3ms/step - attrition_accuracy: 0.9943 - attrition_loss: 0.0413 - department_accuracy: 0.9921 - department_loss: 0.0621 - loss: 0.1033 - val_attrition_accuracy: 0.7285 - val_attrition_loss: 1.4669 - val_department_accuracy: 0.5204 - val_department_loss: 2.6942 - val_loss: 4.1679\n",
      "Epoch 87/100\n",
      "\u001b[1m28/28\u001b[0m \u001b[32m━━━━━━━━━━━━━━━━━━━━\u001b[0m\u001b[37m\u001b[0m \u001b[1m0s\u001b[0m 3ms/step - attrition_accuracy: 0.9939 - attrition_loss: 0.0372 - department_accuracy: 0.9978 - department_loss: 0.0602 - loss: 0.0974 - val_attrition_accuracy: 0.7240 - val_attrition_loss: 1.4796 - val_department_accuracy: 0.5385 - val_department_loss: 2.7804 - val_loss: 4.2674\n",
      "Epoch 88/100\n",
      "\u001b[1m28/28\u001b[0m \u001b[32m━━━━━━━━━━━━━━━━━━━━\u001b[0m\u001b[37m\u001b[0m \u001b[1m0s\u001b[0m 3ms/step - attrition_accuracy: 0.9921 - attrition_loss: 0.0447 - department_accuracy: 0.9906 - department_loss: 0.0635 - loss: 0.1083 - val_attrition_accuracy: 0.7285 - val_attrition_loss: 1.4745 - val_department_accuracy: 0.5068 - val_department_loss: 2.7322 - val_loss: 4.2133\n",
      "Epoch 89/100\n",
      "\u001b[1m28/28\u001b[0m \u001b[32m━━━━━━━━━━━━━━━━━━━━\u001b[0m\u001b[37m\u001b[0m \u001b[1m0s\u001b[0m 3ms/step - attrition_accuracy: 0.9949 - attrition_loss: 0.0395 - department_accuracy: 0.9913 - department_loss: 0.0623 - loss: 0.1018 - val_attrition_accuracy: 0.7240 - val_attrition_loss: 1.4947 - val_department_accuracy: 0.5294 - val_department_loss: 2.8568 - val_loss: 4.3594\n",
      "Epoch 90/100\n",
      "\u001b[1m28/28\u001b[0m \u001b[32m━━━━━━━━━━━━━━━━━━━━\u001b[0m\u001b[37m\u001b[0m \u001b[1m0s\u001b[0m 3ms/step - attrition_accuracy: 0.9914 - attrition_loss: 0.0408 - department_accuracy: 0.9912 - department_loss: 0.0623 - loss: 0.1031 - val_attrition_accuracy: 0.7240 - val_attrition_loss: 1.4851 - val_department_accuracy: 0.5068 - val_department_loss: 2.8071 - val_loss: 4.2998\n",
      "Epoch 91/100\n",
      "\u001b[1m28/28\u001b[0m \u001b[32m━━━━━━━━━━━━━━━━━━━━\u001b[0m\u001b[37m\u001b[0m \u001b[1m0s\u001b[0m 3ms/step - attrition_accuracy: 0.9901 - attrition_loss: 0.0503 - department_accuracy: 0.9954 - department_loss: 0.0574 - loss: 0.1076 - val_attrition_accuracy: 0.7285 - val_attrition_loss: 1.4603 - val_department_accuracy: 0.5204 - val_department_loss: 2.8877 - val_loss: 4.3563\n",
      "Epoch 92/100\n",
      "\u001b[1m28/28\u001b[0m \u001b[32m━━━━━━━━━━━━━━━━━━━━\u001b[0m\u001b[37m\u001b[0m \u001b[1m0s\u001b[0m 3ms/step - attrition_accuracy: 0.9958 - attrition_loss: 0.0370 - department_accuracy: 0.9982 - department_loss: 0.0498 - loss: 0.0868 - val_attrition_accuracy: 0.7240 - val_attrition_loss: 1.5172 - val_department_accuracy: 0.5249 - val_department_loss: 2.9012 - val_loss: 4.4266\n",
      "Epoch 93/100\n",
      "\u001b[1m28/28\u001b[0m \u001b[32m━━━━━━━━━━━━━━━━━━━━\u001b[0m\u001b[37m\u001b[0m \u001b[1m0s\u001b[0m 3ms/step - attrition_accuracy: 0.9942 - attrition_loss: 0.0357 - department_accuracy: 0.9917 - department_loss: 0.0517 - loss: 0.0874 - val_attrition_accuracy: 0.7421 - val_attrition_loss: 1.5330 - val_department_accuracy: 0.5339 - val_department_loss: 2.8972 - val_loss: 4.4385\n",
      "Epoch 94/100\n",
      "\u001b[1m28/28\u001b[0m \u001b[32m━━━━━━━━━━━━━━━━━━━━\u001b[0m\u001b[37m\u001b[0m \u001b[1m0s\u001b[0m 3ms/step - attrition_accuracy: 0.9936 - attrition_loss: 0.0402 - department_accuracy: 0.9933 - department_loss: 0.0517 - loss: 0.0919 - val_attrition_accuracy: 0.7240 - val_attrition_loss: 1.5241 - val_department_accuracy: 0.5339 - val_department_loss: 2.9045 - val_loss: 4.4370\n",
      "Epoch 95/100\n",
      "\u001b[1m28/28\u001b[0m \u001b[32m━━━━━━━━━━━━━━━━━━━━\u001b[0m\u001b[37m\u001b[0m \u001b[1m0s\u001b[0m 3ms/step - attrition_accuracy: 0.9982 - attrition_loss: 0.0282 - department_accuracy: 0.9973 - department_loss: 0.0510 - loss: 0.0791 - val_attrition_accuracy: 0.7149 - val_attrition_loss: 1.5484 - val_department_accuracy: 0.5204 - val_department_loss: 2.9266 - val_loss: 4.4833\n",
      "Epoch 96/100\n",
      "\u001b[1m28/28\u001b[0m \u001b[32m━━━━━━━━━━━━━━━━━━━━\u001b[0m\u001b[37m\u001b[0m \u001b[1m0s\u001b[0m 3ms/step - attrition_accuracy: 0.9964 - attrition_loss: 0.0358 - department_accuracy: 0.9947 - department_loss: 0.0449 - loss: 0.0807 - val_attrition_accuracy: 0.7330 - val_attrition_loss: 1.5481 - val_department_accuracy: 0.5158 - val_department_loss: 2.9590 - val_loss: 4.5154\n",
      "Epoch 97/100\n",
      "\u001b[1m28/28\u001b[0m \u001b[32m━━━━━━━━━━━━━━━━━━━━\u001b[0m\u001b[37m\u001b[0m \u001b[1m0s\u001b[0m 3ms/step - attrition_accuracy: 0.9971 - attrition_loss: 0.0304 - department_accuracy: 0.9965 - department_loss: 0.0494 - loss: 0.0797 - val_attrition_accuracy: 0.7285 - val_attrition_loss: 1.5889 - val_department_accuracy: 0.5158 - val_department_loss: 2.9660 - val_loss: 4.5620\n",
      "Epoch 98/100\n",
      "\u001b[1m28/28\u001b[0m \u001b[32m━━━━━━━━━━━━━━━━━━━━\u001b[0m\u001b[37m\u001b[0m \u001b[1m0s\u001b[0m 3ms/step - attrition_accuracy: 0.9955 - attrition_loss: 0.0362 - department_accuracy: 0.9938 - department_loss: 0.0466 - loss: 0.0828 - val_attrition_accuracy: 0.7240 - val_attrition_loss: 1.5592 - val_department_accuracy: 0.5294 - val_department_loss: 3.0483 - val_loss: 4.6159\n",
      "Epoch 99/100\n",
      "\u001b[1m28/28\u001b[0m \u001b[32m━━━━━━━━━━━━━━━━━━━━\u001b[0m\u001b[37m\u001b[0m \u001b[1m0s\u001b[0m 3ms/step - attrition_accuracy: 0.9956 - attrition_loss: 0.0314 - department_accuracy: 0.9981 - department_loss: 0.0389 - loss: 0.0703 - val_attrition_accuracy: 0.7285 - val_attrition_loss: 1.5935 - val_department_accuracy: 0.5249 - val_department_loss: 3.0727 - val_loss: 4.6738\n",
      "Epoch 100/100\n",
      "\u001b[1m28/28\u001b[0m \u001b[32m━━━━━━━━━━━━━━━━━━━━\u001b[0m\u001b[37m\u001b[0m \u001b[1m0s\u001b[0m 3ms/step - attrition_accuracy: 0.9962 - attrition_loss: 0.0301 - department_accuracy: 0.9996 - department_loss: 0.0408 - loss: 0.0709 - val_attrition_accuracy: 0.7330 - val_attrition_loss: 1.6485 - val_department_accuracy: 0.5113 - val_department_loss: 3.0272 - val_loss: 4.6828\n"
     ]
    }
   ],
   "source": [
    "# Train the model\n",
    "history = model.fit(\n",
    "    X_train_scaled,\n",
    "    {\n",
    "        'department': y_train_dept,\n",
    "        'attrition': y_train_attr\n",
    "    },\n",
    "    validation_split=0.2,  # optional\n",
    "    epochs=100,\n",
    "    batch_size=32\n",
    ")"
   ]
  },
  {
   "cell_type": "code",
   "execution_count": 23,
   "metadata": {
    "colab": {
     "base_uri": "https://localhost:8080/"
    },
    "executionInfo": {
     "elapsed": 379,
     "status": "ok",
     "timestamp": 1730699259894,
     "user": {
      "displayName": "Alexander Booth",
      "userId": "02269714993535573104"
     },
     "user_tz": 360
    },
    "id": "VsMoaQlgGc3U",
    "outputId": "636c85ba-ee63-4087-b7d1-00b408f1055a"
   },
   "outputs": [
    {
     "name": "stdout",
     "output_type": "stream",
     "text": [
      "\u001b[1m12/12\u001b[0m \u001b[32m━━━━━━━━━━━━━━━━━━━━\u001b[0m\u001b[37m\u001b[0m \u001b[1m0s\u001b[0m 2ms/step - attrition_accuracy: 0.8347 - attrition_loss: 1.1473 - department_accuracy: 0.5521 - department_loss: 2.6424 - loss: 3.7741  \n"
     ]
    }
   ],
   "source": [
    "# Evaluate the model with the testing data\n",
    "eval_results = model.evaluate(X_test_scaled, [y_test_dept, y_test_attr])"
   ]
  },
  {
   "cell_type": "code",
   "execution_count": 24,
   "metadata": {
    "colab": {
     "base_uri": "https://localhost:8080/"
    },
    "executionInfo": {
     "elapsed": 113,
     "status": "ok",
     "timestamp": 1730699260004,
     "user": {
      "displayName": "Alexander Booth",
      "userId": "02269714993535573104"
     },
     "user_tz": 360
    },
    "id": "ZlCtlHi0Vt54",
    "outputId": "3a32435c-11cf-48da-81b5-1431d6c00da2"
   },
   "outputs": [
    {
     "name": "stdout",
     "output_type": "stream",
     "text": [
      "\n",
      "Test Accuracy - Department: 0.8288\n",
      "Test Accuracy - Attrition: 0.5679\n"
     ]
    }
   ],
   "source": [
    "# Print the accuracy for both department and attrition\n",
    "print(f\"\\nTest Accuracy - Department: {eval_results[3]:.4f}\")\n",
    "print(f\"Test Accuracy - Attrition: {eval_results[4]:.4f}\")"
   ]
  },
  {
   "cell_type": "markdown",
   "metadata": {
    "id": "eGSyfsZfWOQM"
   },
   "source": [
    "# Summary\n",
    "\n",
    "In the provided space below, briefly answer the following questions.\n",
    "\n",
    "1. Is accuracy the best metric to use on this data? Why or why not?\n",
    "\n",
    "2. What activation functions did you choose for your output layers, and why?\n",
    "\n",
    "3. Can you name a few ways that this model might be improved?"
   ]
  },
  {
   "cell_type": "markdown",
   "metadata": {
    "id": "pi9SLpFnWvbF"
   },
   "source": [
    "YOUR ANSWERS HERE\n",
    "\n",
    "1. Class imbalance is going to mean that accuracy is probably not the best metric to use.\n",
    "2.  We used binary output for attrition, because it is a simple yes/no, and a multiclass output for department because there is more than one possible output. Specifically, we used sigmoid and softmax\n",
    "3. This could really benefit from Hyperparameter tuning."
   ]
  },
  {
   "cell_type": "code",
   "execution_count": 17,
   "metadata": {
    "executionInfo": {
     "elapsed": 3,
     "status": "ok",
     "timestamp": 1730699260004,
     "user": {
      "displayName": "Alexander Booth",
      "userId": "02269714993535573104"
     },
     "user_tz": 360
    },
    "id": "ZuQWjGgGXZ3C"
   },
   "outputs": [],
   "source": []
  }
 ],
 "metadata": {
  "colab": {
   "provenance": []
  },
  "kernelspec": {
   "display_name": "base",
   "language": "python",
   "name": "python3"
  },
  "language_info": {
   "codemirror_mode": {
    "name": "ipython",
    "version": 3
   },
   "file_extension": ".py",
   "mimetype": "text/x-python",
   "name": "python",
   "nbconvert_exporter": "python",
   "pygments_lexer": "ipython3",
   "version": "3.12.7"
  }
 },
 "nbformat": 4,
 "nbformat_minor": 0
}
